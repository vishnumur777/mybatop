import pandas as pd


df = pd.read_csv("data.csv")


df["CURRENT_NOW"] = df["CURRENT_NOW"]/1000000


df["CURRENT_NOW"]



