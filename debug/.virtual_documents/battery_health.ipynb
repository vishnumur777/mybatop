import pandas as pd
import plotly.express as plty


df = pd.read_csv("/opt/mybatop/final.csv")


df


x = df['CHARGE_FULL']
y = df['CHARGE_FULL_DESIGN']


df['BATTERY_HEALTH'] = round(df['CHARGE_FULL'] / df['CHARGE_FULL_DESIGN']*100,2)


df


plty.line(
    x=df['DATE'],
    y=df['BATTERY_HEALTH']
)






