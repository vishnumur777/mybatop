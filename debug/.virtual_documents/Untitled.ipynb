import pandas as pd
import plotly.express as plty


df = pd.read_csv("/opt/mybatop/final.csv")


df


w
