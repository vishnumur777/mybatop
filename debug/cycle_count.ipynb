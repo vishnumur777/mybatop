{
 "cells": [
  {
   "cell_type": "code",
   "execution_count": 3,
   "metadata": {},
   "outputs": [],
   "source": [
    "import pandas as pd \n",
    "import numpy as np\n",
    "import plotly.express as px"
   ]
  },
  {
   "cell_type": "code",
   "execution_count": 4,
   "metadata": {},
   "outputs": [],
   "source": [
    "df=pd.read_csv(\"data.csv\")"
   ]
  },
  {
   "cell_type": "code",
   "execution_count": 5,
   "metadata": {},
   "outputs": [
    {
     "data": {
      "text/html": [
       "<div>\n",
       "<style scoped>\n",
       "    .dataframe tbody tr th:only-of-type {\n",
       "        vertical-align: middle;\n",
       "    }\n",
       "\n",
       "    .dataframe tbody tr th {\n",
       "        vertical-align: top;\n",
       "    }\n",
       "\n",
       "    .dataframe thead th {\n",
       "        text-align: right;\n",
       "    }\n",
       "</style>\n",
       "<table border=\"1\" class=\"dataframe\">\n",
       "  <thead>\n",
       "    <tr style=\"text-align: right;\">\n",
       "      <th></th>\n",
       "      <th>DATE</th>\n",
       "      <th>TIME</th>\n",
       "      <th>STATE</th>\n",
       "      <th>DEVTYPE</th>\n",
       "      <th>NAME</th>\n",
       "      <th>SOURCE</th>\n",
       "      <th>STATUS</th>\n",
       "      <th>PRESENT</th>\n",
       "      <th>TECHNOLOGY</th>\n",
       "      <th>CYCLE_COUNT</th>\n",
       "      <th>...</th>\n",
       "      <th>VOLTAGE_NOW</th>\n",
       "      <th>CURRENT_NOW</th>\n",
       "      <th>CHARGE_FULL_DESIGN</th>\n",
       "      <th>CHARGE_FULL</th>\n",
       "      <th>CHARGE_NOW</th>\n",
       "      <th>CAPACITY</th>\n",
       "      <th>CAPACITY_LEVEL</th>\n",
       "      <th>MODEL_NAME</th>\n",
       "      <th>MANUFACTURER</th>\n",
       "      <th>SERIAL_NUMBER</th>\n",
       "    </tr>\n",
       "  </thead>\n",
       "  <tbody>\n",
       "    <tr>\n",
       "      <th>0</th>\n",
       "      <td>02/07/25</td>\n",
       "      <td>09:59:42</td>\n",
       "      <td>Active</td>\n",
       "      <td>power_supply</td>\n",
       "      <td>BAT0</td>\n",
       "      <td>Battery</td>\n",
       "      <td>Charging</td>\n",
       "      <td>1</td>\n",
       "      <td>Li-ion</td>\n",
       "      <td>8</td>\n",
       "      <td>...</td>\n",
       "      <td>11872000</td>\n",
       "      <td>789000</td>\n",
       "      <td>3684000</td>\n",
       "      <td>1396000</td>\n",
       "      <td>487000</td>\n",
       "      <td>34</td>\n",
       "      <td>Normal</td>\n",
       "      <td>DELL-FDRHM08</td>\n",
       "      <td>LGC-LGC3.65</td>\n",
       "      <td>34838.0</td>\n",
       "    </tr>\n",
       "    <tr>\n",
       "      <th>1</th>\n",
       "      <td>02/07/25</td>\n",
       "      <td>09:26:20</td>\n",
       "      <td>Active</td>\n",
       "      <td>power_supply</td>\n",
       "      <td>BAT0</td>\n",
       "      <td>Battery</td>\n",
       "      <td>Discharging</td>\n",
       "      <td>1</td>\n",
       "      <td>Li-ion</td>\n",
       "      <td>0</td>\n",
       "      <td>...</td>\n",
       "      <td>11544000</td>\n",
       "      <td>944000</td>\n",
       "      <td>3684000</td>\n",
       "      <td>1396000</td>\n",
       "      <td>709000</td>\n",
       "      <td>50</td>\n",
       "      <td>Normal</td>\n",
       "      <td>DELL-FDRHM08</td>\n",
       "      <td>LGC-LGC3.65</td>\n",
       "      <td>34838.0</td>\n",
       "    </tr>\n",
       "    <tr>\n",
       "      <th>2</th>\n",
       "      <td>02/07/25</td>\n",
       "      <td>09:12:29</td>\n",
       "      <td>Active</td>\n",
       "      <td>power_supply</td>\n",
       "      <td>BAT0</td>\n",
       "      <td>Battery</td>\n",
       "      <td>Charging</td>\n",
       "      <td>1</td>\n",
       "      <td>Li-ion</td>\n",
       "      <td>2</td>\n",
       "      <td>...</td>\n",
       "      <td>12010000</td>\n",
       "      <td>767000</td>\n",
       "      <td>3684000</td>\n",
       "      <td>1396000</td>\n",
       "      <td>533000</td>\n",
       "      <td>38</td>\n",
       "      <td>Normal</td>\n",
       "      <td>DELL-FDRHM08</td>\n",
       "      <td>LGC-LGC3.65</td>\n",
       "      <td>34838.0</td>\n",
       "    </tr>\n",
       "    <tr>\n",
       "      <th>3</th>\n",
       "      <td>02/07/25</td>\n",
       "      <td>09:11:52</td>\n",
       "      <td>Suspended</td>\n",
       "      <td>power_supply</td>\n",
       "      <td>BAT0</td>\n",
       "      <td>Battery</td>\n",
       "      <td>Charging</td>\n",
       "      <td>1</td>\n",
       "      <td>Li-ion</td>\n",
       "      <td>30</td>\n",
       "      <td>...</td>\n",
       "      <td>11994000</td>\n",
       "      <td>787000</td>\n",
       "      <td>3684000</td>\n",
       "      <td>1396000</td>\n",
       "      <td>527000</td>\n",
       "      <td>37</td>\n",
       "      <td>Normal</td>\n",
       "      <td>DELL-FDRHM08</td>\n",
       "      <td>LGC-LGC3.65</td>\n",
       "      <td>34838.0</td>\n",
       "    </tr>\n",
       "    <tr>\n",
       "      <th>4</th>\n",
       "      <td>02/07/25</td>\n",
       "      <td>09:11:26</td>\n",
       "      <td>Active</td>\n",
       "      <td>power_supply</td>\n",
       "      <td>BAT0</td>\n",
       "      <td>Battery</td>\n",
       "      <td>Charging</td>\n",
       "      <td>1</td>\n",
       "      <td>Li-ion</td>\n",
       "      <td>15</td>\n",
       "      <td>...</td>\n",
       "      <td>11726000</td>\n",
       "      <td>178000</td>\n",
       "      <td>3684000</td>\n",
       "      <td>1396000</td>\n",
       "      <td>521000</td>\n",
       "      <td>37</td>\n",
       "      <td>Normal</td>\n",
       "      <td>DELL-FDRHM08</td>\n",
       "      <td>LGC-LGC3.65</td>\n",
       "      <td>34838.0</td>\n",
       "    </tr>\n",
       "    <tr>\n",
       "      <th>...</th>\n",
       "      <td>...</td>\n",
       "      <td>...</td>\n",
       "      <td>...</td>\n",
       "      <td>...</td>\n",
       "      <td>...</td>\n",
       "      <td>...</td>\n",
       "      <td>...</td>\n",
       "      <td>...</td>\n",
       "      <td>...</td>\n",
       "      <td>...</td>\n",
       "      <td>...</td>\n",
       "      <td>...</td>\n",
       "      <td>...</td>\n",
       "      <td>...</td>\n",
       "      <td>...</td>\n",
       "      <td>...</td>\n",
       "      <td>...</td>\n",
       "      <td>...</td>\n",
       "      <td>...</td>\n",
       "      <td>...</td>\n",
       "      <td>...</td>\n",
       "    </tr>\n",
       "    <tr>\n",
       "      <th>195</th>\n",
       "      <td>01/24/25</td>\n",
       "      <td>21:29:28</td>\n",
       "      <td>Active</td>\n",
       "      <td>power_supply</td>\n",
       "      <td>BAT0</td>\n",
       "      <td>Battery</td>\n",
       "      <td>Discharging</td>\n",
       "      <td>1</td>\n",
       "      <td>Li-ion</td>\n",
       "      <td>978</td>\n",
       "      <td>...</td>\n",
       "      <td>11456000</td>\n",
       "      <td>517000</td>\n",
       "      <td>3684000</td>\n",
       "      <td>1140000</td>\n",
       "      <td>278000</td>\n",
       "      <td>24</td>\n",
       "      <td>Normal</td>\n",
       "      <td>DELL-FDRHM08</td>\n",
       "      <td>LGC-LGC3.65</td>\n",
       "      <td>34838.0</td>\n",
       "    </tr>\n",
       "    <tr>\n",
       "      <th>196</th>\n",
       "      <td>01/24/25</td>\n",
       "      <td>21:11:37</td>\n",
       "      <td>Active</td>\n",
       "      <td>power_supply</td>\n",
       "      <td>BAT0</td>\n",
       "      <td>Battery</td>\n",
       "      <td>Charging</td>\n",
       "      <td>1</td>\n",
       "      <td>Li-ion</td>\n",
       "      <td>991</td>\n",
       "      <td>...</td>\n",
       "      <td>11625000</td>\n",
       "      <td>674000</td>\n",
       "      <td>3684000</td>\n",
       "      <td>1140000</td>\n",
       "      <td>81000</td>\n",
       "      <td>7</td>\n",
       "      <td>Critical</td>\n",
       "      <td>DELL-FDRHM08</td>\n",
       "      <td>LGC-LGC3.65</td>\n",
       "      <td>34838.0</td>\n",
       "    </tr>\n",
       "    <tr>\n",
       "      <th>197</th>\n",
       "      <td>01/24/25</td>\n",
       "      <td>19:43:01</td>\n",
       "      <td>Active</td>\n",
       "      <td>power_supply</td>\n",
       "      <td>BAT0</td>\n",
       "      <td>Battery</td>\n",
       "      <td>Discharging</td>\n",
       "      <td>1</td>\n",
       "      <td>Li-ion</td>\n",
       "      <td>1002</td>\n",
       "      <td>...</td>\n",
       "      <td>12216000</td>\n",
       "      <td>405000</td>\n",
       "      <td>3684000</td>\n",
       "      <td>1140000</td>\n",
       "      <td>1129000</td>\n",
       "      <td>99</td>\n",
       "      <td>Normal</td>\n",
       "      <td>DELL-FDRHM08</td>\n",
       "      <td>LGC-LGC3.65</td>\n",
       "      <td>34838.0</td>\n",
       "    </tr>\n",
       "    <tr>\n",
       "      <th>198</th>\n",
       "      <td>01/24/25</td>\n",
       "      <td>19:41:00</td>\n",
       "      <td>Active</td>\n",
       "      <td>power_supply</td>\n",
       "      <td>BAT0</td>\n",
       "      <td>Battery</td>\n",
       "      <td>Full</td>\n",
       "      <td>1</td>\n",
       "      <td>Li-ion</td>\n",
       "      <td>993</td>\n",
       "      <td>...</td>\n",
       "      <td>12372000</td>\n",
       "      <td>1000</td>\n",
       "      <td>3684000</td>\n",
       "      <td>1140000</td>\n",
       "      <td>1140000</td>\n",
       "      <td>100</td>\n",
       "      <td>Full</td>\n",
       "      <td>DELL-FDRHM08</td>\n",
       "      <td>LGC-LGC3.65</td>\n",
       "      <td>34838.0</td>\n",
       "    </tr>\n",
       "    <tr>\n",
       "      <th>199</th>\n",
       "      <td>01/24/25</td>\n",
       "      <td>19:39:50</td>\n",
       "      <td>Active</td>\n",
       "      <td>power_supply</td>\n",
       "      <td>BAT0</td>\n",
       "      <td>Battery</td>\n",
       "      <td>Discharging</td>\n",
       "      <td>1</td>\n",
       "      <td>Li-ion</td>\n",
       "      <td>998</td>\n",
       "      <td>...</td>\n",
       "      <td>11995000</td>\n",
       "      <td>1510000</td>\n",
       "      <td>3684000</td>\n",
       "      <td>1140000</td>\n",
       "      <td>1140000</td>\n",
       "      <td>100</td>\n",
       "      <td>Normal</td>\n",
       "      <td>DELL-FDRHM08</td>\n",
       "      <td>LGC-LGC3.65</td>\n",
       "      <td>34838.0</td>\n",
       "    </tr>\n",
       "  </tbody>\n",
       "</table>\n",
       "<p>200 rows × 21 columns</p>\n",
       "</div>"
      ],
      "text/plain": [
       "         DATE      TIME      STATE       DEVTYPE  NAME   SOURCE       STATUS  \\\n",
       "0    02/07/25  09:59:42     Active  power_supply  BAT0  Battery     Charging   \n",
       "1    02/07/25  09:26:20     Active  power_supply  BAT0  Battery  Discharging   \n",
       "2    02/07/25  09:12:29     Active  power_supply  BAT0  Battery     Charging   \n",
       "3    02/07/25  09:11:52  Suspended  power_supply  BAT0  Battery     Charging   \n",
       "4    02/07/25  09:11:26     Active  power_supply  BAT0  Battery     Charging   \n",
       "..        ...       ...        ...           ...   ...      ...          ...   \n",
       "195  01/24/25  21:29:28     Active  power_supply  BAT0  Battery  Discharging   \n",
       "196  01/24/25  21:11:37     Active  power_supply  BAT0  Battery     Charging   \n",
       "197  01/24/25  19:43:01     Active  power_supply  BAT0  Battery  Discharging   \n",
       "198  01/24/25  19:41:00     Active  power_supply  BAT0  Battery         Full   \n",
       "199  01/24/25  19:39:50     Active  power_supply  BAT0  Battery  Discharging   \n",
       "\n",
       "     PRESENT TECHNOLOGY  CYCLE_COUNT  ...  VOLTAGE_NOW  CURRENT_NOW  \\\n",
       "0          1     Li-ion            8  ...     11872000       789000   \n",
       "1          1     Li-ion            0  ...     11544000       944000   \n",
       "2          1     Li-ion            2  ...     12010000       767000   \n",
       "3          1     Li-ion           30  ...     11994000       787000   \n",
       "4          1     Li-ion           15  ...     11726000       178000   \n",
       "..       ...        ...          ...  ...          ...          ...   \n",
       "195        1     Li-ion          978  ...     11456000       517000   \n",
       "196        1     Li-ion          991  ...     11625000       674000   \n",
       "197        1     Li-ion         1002  ...     12216000       405000   \n",
       "198        1     Li-ion          993  ...     12372000         1000   \n",
       "199        1     Li-ion          998  ...     11995000      1510000   \n",
       "\n",
       "     CHARGE_FULL_DESIGN  CHARGE_FULL  CHARGE_NOW  CAPACITY CAPACITY_LEVEL  \\\n",
       "0               3684000      1396000      487000        34         Normal   \n",
       "1               3684000      1396000      709000        50         Normal   \n",
       "2               3684000      1396000      533000        38         Normal   \n",
       "3               3684000      1396000      527000        37         Normal   \n",
       "4               3684000      1396000      521000        37         Normal   \n",
       "..                  ...          ...         ...       ...            ...   \n",
       "195             3684000      1140000      278000        24         Normal   \n",
       "196             3684000      1140000       81000         7       Critical   \n",
       "197             3684000      1140000     1129000        99         Normal   \n",
       "198             3684000      1140000     1140000       100           Full   \n",
       "199             3684000      1140000     1140000       100         Normal   \n",
       "\n",
       "       MODEL_NAME MANUFACTURER SERIAL_NUMBER  \n",
       "0    DELL-FDRHM08  LGC-LGC3.65       34838.0  \n",
       "1    DELL-FDRHM08  LGC-LGC3.65       34838.0  \n",
       "2    DELL-FDRHM08  LGC-LGC3.65       34838.0  \n",
       "3    DELL-FDRHM08  LGC-LGC3.65       34838.0  \n",
       "4    DELL-FDRHM08  LGC-LGC3.65       34838.0  \n",
       "..            ...          ...           ...  \n",
       "195  DELL-FDRHM08  LGC-LGC3.65       34838.0  \n",
       "196  DELL-FDRHM08  LGC-LGC3.65       34838.0  \n",
       "197  DELL-FDRHM08  LGC-LGC3.65       34838.0  \n",
       "198  DELL-FDRHM08  LGC-LGC3.65       34838.0  \n",
       "199  DELL-FDRHM08  LGC-LGC3.65       34838.0  \n",
       "\n",
       "[200 rows x 21 columns]"
      ]
     },
     "execution_count": 5,
     "metadata": {},
     "output_type": "execute_result"
    }
   ],
   "source": [
    "df"
   ]
  },
  {
   "cell_type": "code",
   "execution_count": 6,
   "metadata": {},
   "outputs": [],
   "source": [
    "n = len(df)"
   ]
  },
  {
   "cell_type": "code",
   "execution_count": 9,
   "metadata": {},
   "outputs": [],
   "source": [
    "# Create a linear progression from 0 to 1000\n",
    "linear_progression = np.linspace(1, 1001, n)"
   ]
  },
  {
   "cell_type": "code",
   "execution_count": 10,
   "metadata": {},
   "outputs": [],
   "source": [
    "# Add some random noise (standard deviation of 10 cycles)\n",
    "noise = np.random.normal(loc=0, scale=10, size=n)\n",
    "simulated_cycles = linear_progression + noise"
   ]
  },
  {
   "cell_type": "code",
   "execution_count": 11,
   "metadata": {},
   "outputs": [],
   "source": [
    "# Ensure there are no negative values\n",
    "simulated_cycles = np.clip(simulated_cycles, 0, None)"
   ]
  },
  {
   "cell_type": "code",
   "execution_count": 12,
   "metadata": {},
   "outputs": [],
   "source": [
    "# Update the DataFrame's CycleCount (casting to int for whole number cycle counts)\n",
    "df['CYCLE_COUNT'] = simulated_cycles.astype(int)"
   ]
  },
  {
   "cell_type": "code",
   "execution_count": 13,
   "metadata": {},
   "outputs": [
    {
     "data": {
      "text/html": [
       "<div>\n",
       "<style scoped>\n",
       "    .dataframe tbody tr th:only-of-type {\n",
       "        vertical-align: middle;\n",
       "    }\n",
       "\n",
       "    .dataframe tbody tr th {\n",
       "        vertical-align: top;\n",
       "    }\n",
       "\n",
       "    .dataframe thead th {\n",
       "        text-align: right;\n",
       "    }\n",
       "</style>\n",
       "<table border=\"1\" class=\"dataframe\">\n",
       "  <thead>\n",
       "    <tr style=\"text-align: right;\">\n",
       "      <th></th>\n",
       "      <th>DATE</th>\n",
       "      <th>TIME</th>\n",
       "      <th>STATE</th>\n",
       "      <th>DEVTYPE</th>\n",
       "      <th>NAME</th>\n",
       "      <th>SOURCE</th>\n",
       "      <th>STATUS</th>\n",
       "      <th>PRESENT</th>\n",
       "      <th>TECHNOLOGY</th>\n",
       "      <th>CYCLE_COUNT</th>\n",
       "      <th>...</th>\n",
       "      <th>VOLTAGE_NOW</th>\n",
       "      <th>CURRENT_NOW</th>\n",
       "      <th>CHARGE_FULL_DESIGN</th>\n",
       "      <th>CHARGE_FULL</th>\n",
       "      <th>CHARGE_NOW</th>\n",
       "      <th>CAPACITY</th>\n",
       "      <th>CAPACITY_LEVEL</th>\n",
       "      <th>MODEL_NAME</th>\n",
       "      <th>MANUFACTURER</th>\n",
       "      <th>SERIAL_NUMBER</th>\n",
       "    </tr>\n",
       "  </thead>\n",
       "  <tbody>\n",
       "    <tr>\n",
       "      <th>0</th>\n",
       "      <td>02/07/25</td>\n",
       "      <td>09:59:42</td>\n",
       "      <td>Active</td>\n",
       "      <td>power_supply</td>\n",
       "      <td>BAT0</td>\n",
       "      <td>Battery</td>\n",
       "      <td>Charging</td>\n",
       "      <td>1</td>\n",
       "      <td>Li-ion</td>\n",
       "      <td>2</td>\n",
       "      <td>...</td>\n",
       "      <td>11872000</td>\n",
       "      <td>789000</td>\n",
       "      <td>3684000</td>\n",
       "      <td>1396000</td>\n",
       "      <td>487000</td>\n",
       "      <td>34</td>\n",
       "      <td>Normal</td>\n",
       "      <td>DELL-FDRHM08</td>\n",
       "      <td>LGC-LGC3.65</td>\n",
       "      <td>34838.0</td>\n",
       "    </tr>\n",
       "    <tr>\n",
       "      <th>1</th>\n",
       "      <td>02/07/25</td>\n",
       "      <td>09:26:20</td>\n",
       "      <td>Active</td>\n",
       "      <td>power_supply</td>\n",
       "      <td>BAT0</td>\n",
       "      <td>Battery</td>\n",
       "      <td>Discharging</td>\n",
       "      <td>1</td>\n",
       "      <td>Li-ion</td>\n",
       "      <td>0</td>\n",
       "      <td>...</td>\n",
       "      <td>11544000</td>\n",
       "      <td>944000</td>\n",
       "      <td>3684000</td>\n",
       "      <td>1396000</td>\n",
       "      <td>709000</td>\n",
       "      <td>50</td>\n",
       "      <td>Normal</td>\n",
       "      <td>DELL-FDRHM08</td>\n",
       "      <td>LGC-LGC3.65</td>\n",
       "      <td>34838.0</td>\n",
       "    </tr>\n",
       "    <tr>\n",
       "      <th>2</th>\n",
       "      <td>02/07/25</td>\n",
       "      <td>09:12:29</td>\n",
       "      <td>Active</td>\n",
       "      <td>power_supply</td>\n",
       "      <td>BAT0</td>\n",
       "      <td>Battery</td>\n",
       "      <td>Charging</td>\n",
       "      <td>1</td>\n",
       "      <td>Li-ion</td>\n",
       "      <td>18</td>\n",
       "      <td>...</td>\n",
       "      <td>12010000</td>\n",
       "      <td>767000</td>\n",
       "      <td>3684000</td>\n",
       "      <td>1396000</td>\n",
       "      <td>533000</td>\n",
       "      <td>38</td>\n",
       "      <td>Normal</td>\n",
       "      <td>DELL-FDRHM08</td>\n",
       "      <td>LGC-LGC3.65</td>\n",
       "      <td>34838.0</td>\n",
       "    </tr>\n",
       "    <tr>\n",
       "      <th>3</th>\n",
       "      <td>02/07/25</td>\n",
       "      <td>09:11:52</td>\n",
       "      <td>Suspended</td>\n",
       "      <td>power_supply</td>\n",
       "      <td>BAT0</td>\n",
       "      <td>Battery</td>\n",
       "      <td>Charging</td>\n",
       "      <td>1</td>\n",
       "      <td>Li-ion</td>\n",
       "      <td>12</td>\n",
       "      <td>...</td>\n",
       "      <td>11994000</td>\n",
       "      <td>787000</td>\n",
       "      <td>3684000</td>\n",
       "      <td>1396000</td>\n",
       "      <td>527000</td>\n",
       "      <td>37</td>\n",
       "      <td>Normal</td>\n",
       "      <td>DELL-FDRHM08</td>\n",
       "      <td>LGC-LGC3.65</td>\n",
       "      <td>34838.0</td>\n",
       "    </tr>\n",
       "    <tr>\n",
       "      <th>4</th>\n",
       "      <td>02/07/25</td>\n",
       "      <td>09:11:26</td>\n",
       "      <td>Active</td>\n",
       "      <td>power_supply</td>\n",
       "      <td>BAT0</td>\n",
       "      <td>Battery</td>\n",
       "      <td>Charging</td>\n",
       "      <td>1</td>\n",
       "      <td>Li-ion</td>\n",
       "      <td>23</td>\n",
       "      <td>...</td>\n",
       "      <td>11726000</td>\n",
       "      <td>178000</td>\n",
       "      <td>3684000</td>\n",
       "      <td>1396000</td>\n",
       "      <td>521000</td>\n",
       "      <td>37</td>\n",
       "      <td>Normal</td>\n",
       "      <td>DELL-FDRHM08</td>\n",
       "      <td>LGC-LGC3.65</td>\n",
       "      <td>34838.0</td>\n",
       "    </tr>\n",
       "    <tr>\n",
       "      <th>...</th>\n",
       "      <td>...</td>\n",
       "      <td>...</td>\n",
       "      <td>...</td>\n",
       "      <td>...</td>\n",
       "      <td>...</td>\n",
       "      <td>...</td>\n",
       "      <td>...</td>\n",
       "      <td>...</td>\n",
       "      <td>...</td>\n",
       "      <td>...</td>\n",
       "      <td>...</td>\n",
       "      <td>...</td>\n",
       "      <td>...</td>\n",
       "      <td>...</td>\n",
       "      <td>...</td>\n",
       "      <td>...</td>\n",
       "      <td>...</td>\n",
       "      <td>...</td>\n",
       "      <td>...</td>\n",
       "      <td>...</td>\n",
       "      <td>...</td>\n",
       "    </tr>\n",
       "    <tr>\n",
       "      <th>195</th>\n",
       "      <td>01/24/25</td>\n",
       "      <td>21:29:28</td>\n",
       "      <td>Active</td>\n",
       "      <td>power_supply</td>\n",
       "      <td>BAT0</td>\n",
       "      <td>Battery</td>\n",
       "      <td>Discharging</td>\n",
       "      <td>1</td>\n",
       "      <td>Li-ion</td>\n",
       "      <td>986</td>\n",
       "      <td>...</td>\n",
       "      <td>11456000</td>\n",
       "      <td>517000</td>\n",
       "      <td>3684000</td>\n",
       "      <td>1140000</td>\n",
       "      <td>278000</td>\n",
       "      <td>24</td>\n",
       "      <td>Normal</td>\n",
       "      <td>DELL-FDRHM08</td>\n",
       "      <td>LGC-LGC3.65</td>\n",
       "      <td>34838.0</td>\n",
       "    </tr>\n",
       "    <tr>\n",
       "      <th>196</th>\n",
       "      <td>01/24/25</td>\n",
       "      <td>21:11:37</td>\n",
       "      <td>Active</td>\n",
       "      <td>power_supply</td>\n",
       "      <td>BAT0</td>\n",
       "      <td>Battery</td>\n",
       "      <td>Charging</td>\n",
       "      <td>1</td>\n",
       "      <td>Li-ion</td>\n",
       "      <td>997</td>\n",
       "      <td>...</td>\n",
       "      <td>11625000</td>\n",
       "      <td>674000</td>\n",
       "      <td>3684000</td>\n",
       "      <td>1140000</td>\n",
       "      <td>81000</td>\n",
       "      <td>7</td>\n",
       "      <td>Critical</td>\n",
       "      <td>DELL-FDRHM08</td>\n",
       "      <td>LGC-LGC3.65</td>\n",
       "      <td>34838.0</td>\n",
       "    </tr>\n",
       "    <tr>\n",
       "      <th>197</th>\n",
       "      <td>01/24/25</td>\n",
       "      <td>19:43:01</td>\n",
       "      <td>Active</td>\n",
       "      <td>power_supply</td>\n",
       "      <td>BAT0</td>\n",
       "      <td>Battery</td>\n",
       "      <td>Discharging</td>\n",
       "      <td>1</td>\n",
       "      <td>Li-ion</td>\n",
       "      <td>975</td>\n",
       "      <td>...</td>\n",
       "      <td>12216000</td>\n",
       "      <td>405000</td>\n",
       "      <td>3684000</td>\n",
       "      <td>1140000</td>\n",
       "      <td>1129000</td>\n",
       "      <td>99</td>\n",
       "      <td>Normal</td>\n",
       "      <td>DELL-FDRHM08</td>\n",
       "      <td>LGC-LGC3.65</td>\n",
       "      <td>34838.0</td>\n",
       "    </tr>\n",
       "    <tr>\n",
       "      <th>198</th>\n",
       "      <td>01/24/25</td>\n",
       "      <td>19:41:00</td>\n",
       "      <td>Active</td>\n",
       "      <td>power_supply</td>\n",
       "      <td>BAT0</td>\n",
       "      <td>Battery</td>\n",
       "      <td>Full</td>\n",
       "      <td>1</td>\n",
       "      <td>Li-ion</td>\n",
       "      <td>989</td>\n",
       "      <td>...</td>\n",
       "      <td>12372000</td>\n",
       "      <td>1000</td>\n",
       "      <td>3684000</td>\n",
       "      <td>1140000</td>\n",
       "      <td>1140000</td>\n",
       "      <td>100</td>\n",
       "      <td>Full</td>\n",
       "      <td>DELL-FDRHM08</td>\n",
       "      <td>LGC-LGC3.65</td>\n",
       "      <td>34838.0</td>\n",
       "    </tr>\n",
       "    <tr>\n",
       "      <th>199</th>\n",
       "      <td>01/24/25</td>\n",
       "      <td>19:39:50</td>\n",
       "      <td>Active</td>\n",
       "      <td>power_supply</td>\n",
       "      <td>BAT0</td>\n",
       "      <td>Battery</td>\n",
       "      <td>Discharging</td>\n",
       "      <td>1</td>\n",
       "      <td>Li-ion</td>\n",
       "      <td>993</td>\n",
       "      <td>...</td>\n",
       "      <td>11995000</td>\n",
       "      <td>1510000</td>\n",
       "      <td>3684000</td>\n",
       "      <td>1140000</td>\n",
       "      <td>1140000</td>\n",
       "      <td>100</td>\n",
       "      <td>Normal</td>\n",
       "      <td>DELL-FDRHM08</td>\n",
       "      <td>LGC-LGC3.65</td>\n",
       "      <td>34838.0</td>\n",
       "    </tr>\n",
       "  </tbody>\n",
       "</table>\n",
       "<p>200 rows × 21 columns</p>\n",
       "</div>"
      ],
      "text/plain": [
       "         DATE      TIME      STATE       DEVTYPE  NAME   SOURCE       STATUS  \\\n",
       "0    02/07/25  09:59:42     Active  power_supply  BAT0  Battery     Charging   \n",
       "1    02/07/25  09:26:20     Active  power_supply  BAT0  Battery  Discharging   \n",
       "2    02/07/25  09:12:29     Active  power_supply  BAT0  Battery     Charging   \n",
       "3    02/07/25  09:11:52  Suspended  power_supply  BAT0  Battery     Charging   \n",
       "4    02/07/25  09:11:26     Active  power_supply  BAT0  Battery     Charging   \n",
       "..        ...       ...        ...           ...   ...      ...          ...   \n",
       "195  01/24/25  21:29:28     Active  power_supply  BAT0  Battery  Discharging   \n",
       "196  01/24/25  21:11:37     Active  power_supply  BAT0  Battery     Charging   \n",
       "197  01/24/25  19:43:01     Active  power_supply  BAT0  Battery  Discharging   \n",
       "198  01/24/25  19:41:00     Active  power_supply  BAT0  Battery         Full   \n",
       "199  01/24/25  19:39:50     Active  power_supply  BAT0  Battery  Discharging   \n",
       "\n",
       "     PRESENT TECHNOLOGY  CYCLE_COUNT  ...  VOLTAGE_NOW  CURRENT_NOW  \\\n",
       "0          1     Li-ion            2  ...     11872000       789000   \n",
       "1          1     Li-ion            0  ...     11544000       944000   \n",
       "2          1     Li-ion           18  ...     12010000       767000   \n",
       "3          1     Li-ion           12  ...     11994000       787000   \n",
       "4          1     Li-ion           23  ...     11726000       178000   \n",
       "..       ...        ...          ...  ...          ...          ...   \n",
       "195        1     Li-ion          986  ...     11456000       517000   \n",
       "196        1     Li-ion          997  ...     11625000       674000   \n",
       "197        1     Li-ion          975  ...     12216000       405000   \n",
       "198        1     Li-ion          989  ...     12372000         1000   \n",
       "199        1     Li-ion          993  ...     11995000      1510000   \n",
       "\n",
       "     CHARGE_FULL_DESIGN  CHARGE_FULL  CHARGE_NOW  CAPACITY CAPACITY_LEVEL  \\\n",
       "0               3684000      1396000      487000        34         Normal   \n",
       "1               3684000      1396000      709000        50         Normal   \n",
       "2               3684000      1396000      533000        38         Normal   \n",
       "3               3684000      1396000      527000        37         Normal   \n",
       "4               3684000      1396000      521000        37         Normal   \n",
       "..                  ...          ...         ...       ...            ...   \n",
       "195             3684000      1140000      278000        24         Normal   \n",
       "196             3684000      1140000       81000         7       Critical   \n",
       "197             3684000      1140000     1129000        99         Normal   \n",
       "198             3684000      1140000     1140000       100           Full   \n",
       "199             3684000      1140000     1140000       100         Normal   \n",
       "\n",
       "       MODEL_NAME MANUFACTURER SERIAL_NUMBER  \n",
       "0    DELL-FDRHM08  LGC-LGC3.65       34838.0  \n",
       "1    DELL-FDRHM08  LGC-LGC3.65       34838.0  \n",
       "2    DELL-FDRHM08  LGC-LGC3.65       34838.0  \n",
       "3    DELL-FDRHM08  LGC-LGC3.65       34838.0  \n",
       "4    DELL-FDRHM08  LGC-LGC3.65       34838.0  \n",
       "..            ...          ...           ...  \n",
       "195  DELL-FDRHM08  LGC-LGC3.65       34838.0  \n",
       "196  DELL-FDRHM08  LGC-LGC3.65       34838.0  \n",
       "197  DELL-FDRHM08  LGC-LGC3.65       34838.0  \n",
       "198  DELL-FDRHM08  LGC-LGC3.65       34838.0  \n",
       "199  DELL-FDRHM08  LGC-LGC3.65       34838.0  \n",
       "\n",
       "[200 rows x 21 columns]"
      ]
     },
     "execution_count": 13,
     "metadata": {},
     "output_type": "execute_result"
    }
   ],
   "source": [
    "df"
   ]
  },
  {
   "cell_type": "code",
   "execution_count": 14,
   "metadata": {},
   "outputs": [],
   "source": [
    "df1 = df.groupby(\"DATE\")[\"CYCLE_COUNT\"].mean().reset_index()"
   ]
  },
  {
   "cell_type": "code",
   "execution_count": 15,
   "metadata": {},
   "outputs": [
    {
     "data": {
      "text/html": [
       "<div>\n",
       "<style scoped>\n",
       "    .dataframe tbody tr th:only-of-type {\n",
       "        vertical-align: middle;\n",
       "    }\n",
       "\n",
       "    .dataframe tbody tr th {\n",
       "        vertical-align: top;\n",
       "    }\n",
       "\n",
       "    .dataframe thead th {\n",
       "        text-align: right;\n",
       "    }\n",
       "</style>\n",
       "<table border=\"1\" class=\"dataframe\">\n",
       "  <thead>\n",
       "    <tr style=\"text-align: right;\">\n",
       "      <th></th>\n",
       "      <th>DATE</th>\n",
       "      <th>CYCLE_COUNT</th>\n",
       "    </tr>\n",
       "  </thead>\n",
       "  <tbody>\n",
       "    <tr>\n",
       "      <th>0</th>\n",
       "      <td>01/24/25</td>\n",
       "      <td>978.333333</td>\n",
       "    </tr>\n",
       "    <tr>\n",
       "      <th>1</th>\n",
       "      <td>01/25/25</td>\n",
       "      <td>923.928571</td>\n",
       "    </tr>\n",
       "    <tr>\n",
       "      <th>2</th>\n",
       "      <td>01/26/25</td>\n",
       "      <td>795.000000</td>\n",
       "    </tr>\n",
       "    <tr>\n",
       "      <th>3</th>\n",
       "      <td>01/27/25</td>\n",
       "      <td>623.258065</td>\n",
       "    </tr>\n",
       "    <tr>\n",
       "      <th>4</th>\n",
       "      <td>01/28/25</td>\n",
       "      <td>532.000000</td>\n",
       "    </tr>\n",
       "    <tr>\n",
       "      <th>5</th>\n",
       "      <td>01/29/25</td>\n",
       "      <td>467.473684</td>\n",
       "    </tr>\n",
       "    <tr>\n",
       "      <th>6</th>\n",
       "      <td>01/30/25</td>\n",
       "      <td>356.538462</td>\n",
       "    </tr>\n",
       "    <tr>\n",
       "      <th>7</th>\n",
       "      <td>02/01/25</td>\n",
       "      <td>289.000000</td>\n",
       "    </tr>\n",
       "    <tr>\n",
       "      <th>8</th>\n",
       "      <td>02/02/25</td>\n",
       "      <td>251.700000</td>\n",
       "    </tr>\n",
       "    <tr>\n",
       "      <th>9</th>\n",
       "      <td>02/03/25</td>\n",
       "      <td>175.950000</td>\n",
       "    </tr>\n",
       "    <tr>\n",
       "      <th>10</th>\n",
       "      <td>02/04/25</td>\n",
       "      <td>100.833333</td>\n",
       "    </tr>\n",
       "    <tr>\n",
       "      <th>11</th>\n",
       "      <td>02/05/25</td>\n",
       "      <td>63.250000</td>\n",
       "    </tr>\n",
       "    <tr>\n",
       "      <th>12</th>\n",
       "      <td>02/06/25</td>\n",
       "      <td>34.200000</td>\n",
       "    </tr>\n",
       "    <tr>\n",
       "      <th>13</th>\n",
       "      <td>02/07/25</td>\n",
       "      <td>11.000000</td>\n",
       "    </tr>\n",
       "  </tbody>\n",
       "</table>\n",
       "</div>"
      ],
      "text/plain": [
       "        DATE  CYCLE_COUNT\n",
       "0   01/24/25   978.333333\n",
       "1   01/25/25   923.928571\n",
       "2   01/26/25   795.000000\n",
       "3   01/27/25   623.258065\n",
       "4   01/28/25   532.000000\n",
       "5   01/29/25   467.473684\n",
       "6   01/30/25   356.538462\n",
       "7   02/01/25   289.000000\n",
       "8   02/02/25   251.700000\n",
       "9   02/03/25   175.950000\n",
       "10  02/04/25   100.833333\n",
       "11  02/05/25    63.250000\n",
       "12  02/06/25    34.200000\n",
       "13  02/07/25    11.000000"
      ]
     },
     "execution_count": 15,
     "metadata": {},
     "output_type": "execute_result"
    }
   ],
   "source": [
    "df1"
   ]
  },
  {
   "cell_type": "code",
   "execution_count": 16,
   "metadata": {},
   "outputs": [],
   "source": [
    "df1[\"DATE\"] = pd.to_datetime(df1[\"DATE\"], format=\"%m/%d/%y\")"
   ]
  },
  {
   "cell_type": "code",
   "execution_count": 17,
   "metadata": {},
   "outputs": [],
   "source": [
    "df1 = df1.sort_values(by=['DATE'])"
   ]
  },
  {
   "cell_type": "code",
   "execution_count": 18,
   "metadata": {},
   "outputs": [
    {
     "ename": "ValueError",
     "evalue": "Mime type rendering requires nbformat>=4.2.0 but it is not installed",
     "output_type": "error",
     "traceback": [
      "\u001b[0;31m---------------------------------------------------------------------------\u001b[0m",
      "\u001b[0;31mValueError\u001b[0m                                Traceback (most recent call last)",
      "File \u001b[0;32m~/.local/lib/python3.12/site-packages/IPython/core/formatters.py:984\u001b[0m, in \u001b[0;36mIPythonDisplayFormatter.__call__\u001b[0;34m(self, obj)\u001b[0m\n\u001b[1;32m    982\u001b[0m method \u001b[38;5;241m=\u001b[39m get_real_method(obj, \u001b[38;5;28mself\u001b[39m\u001b[38;5;241m.\u001b[39mprint_method)\n\u001b[1;32m    983\u001b[0m \u001b[38;5;28;01mif\u001b[39;00m method \u001b[38;5;129;01mis\u001b[39;00m \u001b[38;5;129;01mnot\u001b[39;00m \u001b[38;5;28;01mNone\u001b[39;00m:\n\u001b[0;32m--> 984\u001b[0m     \u001b[43mmethod\u001b[49m\u001b[43m(\u001b[49m\u001b[43m)\u001b[49m\n\u001b[1;32m    985\u001b[0m     \u001b[38;5;28;01mreturn\u001b[39;00m \u001b[38;5;28;01mTrue\u001b[39;00m\n",
      "File \u001b[0;32m~/.local/lib/python3.12/site-packages/plotly/basedatatypes.py:832\u001b[0m, in \u001b[0;36mBaseFigure._ipython_display_\u001b[0;34m(self)\u001b[0m\n\u001b[1;32m    829\u001b[0m \u001b[38;5;28;01mimport\u001b[39;00m\u001b[38;5;250m \u001b[39m\u001b[38;5;21;01mplotly\u001b[39;00m\u001b[38;5;21;01m.\u001b[39;00m\u001b[38;5;21;01mio\u001b[39;00m\u001b[38;5;250m \u001b[39m\u001b[38;5;28;01mas\u001b[39;00m\u001b[38;5;250m \u001b[39m\u001b[38;5;21;01mpio\u001b[39;00m\n\u001b[1;32m    831\u001b[0m \u001b[38;5;28;01mif\u001b[39;00m pio\u001b[38;5;241m.\u001b[39mrenderers\u001b[38;5;241m.\u001b[39mrender_on_display \u001b[38;5;129;01mand\u001b[39;00m pio\u001b[38;5;241m.\u001b[39mrenderers\u001b[38;5;241m.\u001b[39mdefault:\n\u001b[0;32m--> 832\u001b[0m     \u001b[43mpio\u001b[49m\u001b[38;5;241;43m.\u001b[39;49m\u001b[43mshow\u001b[49m\u001b[43m(\u001b[49m\u001b[38;5;28;43mself\u001b[39;49m\u001b[43m)\u001b[49m\n\u001b[1;32m    833\u001b[0m \u001b[38;5;28;01melse\u001b[39;00m:\n\u001b[1;32m    834\u001b[0m     \u001b[38;5;28mprint\u001b[39m(\u001b[38;5;28mrepr\u001b[39m(\u001b[38;5;28mself\u001b[39m))\n",
      "File \u001b[0;32m~/.local/lib/python3.12/site-packages/plotly/io/_renderers.py:394\u001b[0m, in \u001b[0;36mshow\u001b[0;34m(fig, renderer, validate, **kwargs)\u001b[0m\n\u001b[1;32m    389\u001b[0m         \u001b[38;5;28;01mraise\u001b[39;00m \u001b[38;5;167;01mValueError\u001b[39;00m(\n\u001b[1;32m    390\u001b[0m             \u001b[38;5;124m\"\u001b[39m\u001b[38;5;124mMime type rendering requires ipython but it is not installed\u001b[39m\u001b[38;5;124m\"\u001b[39m\n\u001b[1;32m    391\u001b[0m         )\n\u001b[1;32m    393\u001b[0m     \u001b[38;5;28;01mif\u001b[39;00m \u001b[38;5;129;01mnot\u001b[39;00m nbformat \u001b[38;5;129;01mor\u001b[39;00m Version(nbformat\u001b[38;5;241m.\u001b[39m__version__) \u001b[38;5;241m<\u001b[39m Version(\u001b[38;5;124m\"\u001b[39m\u001b[38;5;124m4.2.0\u001b[39m\u001b[38;5;124m\"\u001b[39m):\n\u001b[0;32m--> 394\u001b[0m         \u001b[38;5;28;01mraise\u001b[39;00m \u001b[38;5;167;01mValueError\u001b[39;00m(\n\u001b[1;32m    395\u001b[0m             \u001b[38;5;124m\"\u001b[39m\u001b[38;5;124mMime type rendering requires nbformat>=4.2.0 but it is not installed\u001b[39m\u001b[38;5;124m\"\u001b[39m\n\u001b[1;32m    396\u001b[0m         )\n\u001b[1;32m    398\u001b[0m     ipython_display\u001b[38;5;241m.\u001b[39mdisplay(bundle, raw\u001b[38;5;241m=\u001b[39m\u001b[38;5;28;01mTrue\u001b[39;00m)\n\u001b[1;32m    400\u001b[0m \u001b[38;5;66;03m# external renderers\u001b[39;00m\n",
      "\u001b[0;31mValueError\u001b[0m: Mime type rendering requires nbformat>=4.2.0 but it is not installed"
     ]
    },
    {
     "data": {
      "application/vnd.plotly.v1+json": {
       "config": {
        "plotlyServerURL": "https://plot.ly"
       },
       "data": [
        {
         "hovertemplate": "DATE=%{x}<br>CYCLE_COUNT=%{y}<extra></extra>",
         "legendgroup": "",
         "line": {
          "color": "#636efa",
          "dash": "solid"
         },
         "marker": {
          "symbol": "circle"
         },
         "mode": "lines",
         "name": "",
         "orientation": "v",
         "showlegend": false,
         "type": "scatter",
         "x": [
          "2025-01-24T00:00:00",
          "2025-01-25T00:00:00",
          "2025-01-26T00:00:00",
          "2025-01-27T00:00:00",
          "2025-01-28T00:00:00",
          "2025-01-29T00:00:00",
          "2025-01-30T00:00:00",
          "2025-02-01T00:00:00",
          "2025-02-02T00:00:00",
          "2025-02-03T00:00:00",
          "2025-02-04T00:00:00",
          "2025-02-05T00:00:00",
          "2025-02-06T00:00:00",
          "2025-02-07T00:00:00"
         ],
         "xaxis": "x",
         "y": [
          978.3333333333334,
          923.9285714285714,
          795,
          623.258064516129,
          532,
          467.4736842105263,
          356.53846153846155,
          289,
          251.7,
          175.95,
          100.83333333333333,
          63.25,
          34.2,
          11
         ],
         "yaxis": "y"
        }
       ],
       "layout": {
        "legend": {
         "tracegroupgap": 0
        },
        "margin": {
         "t": 60
        },
        "template": {
         "data": {
          "bar": [
           {
            "error_x": {
             "color": "#2a3f5f"
            },
            "error_y": {
             "color": "#2a3f5f"
            },
            "marker": {
             "line": {
              "color": "#E5ECF6",
              "width": 0.5
             },
             "pattern": {
              "fillmode": "overlay",
              "size": 10,
              "solidity": 0.2
             }
            },
            "type": "bar"
           }
          ],
          "barpolar": [
           {
            "marker": {
             "line": {
              "color": "#E5ECF6",
              "width": 0.5
             },
             "pattern": {
              "fillmode": "overlay",
              "size": 10,
              "solidity": 0.2
             }
            },
            "type": "barpolar"
           }
          ],
          "carpet": [
           {
            "aaxis": {
             "endlinecolor": "#2a3f5f",
             "gridcolor": "white",
             "linecolor": "white",
             "minorgridcolor": "white",
             "startlinecolor": "#2a3f5f"
            },
            "baxis": {
             "endlinecolor": "#2a3f5f",
             "gridcolor": "white",
             "linecolor": "white",
             "minorgridcolor": "white",
             "startlinecolor": "#2a3f5f"
            },
            "type": "carpet"
           }
          ],
          "choropleth": [
           {
            "colorbar": {
             "outlinewidth": 0,
             "ticks": ""
            },
            "type": "choropleth"
           }
          ],
          "contour": [
           {
            "colorbar": {
             "outlinewidth": 0,
             "ticks": ""
            },
            "colorscale": [
             [
              0,
              "#0d0887"
             ],
             [
              0.1111111111111111,
              "#46039f"
             ],
             [
              0.2222222222222222,
              "#7201a8"
             ],
             [
              0.3333333333333333,
              "#9c179e"
             ],
             [
              0.4444444444444444,
              "#bd3786"
             ],
             [
              0.5555555555555556,
              "#d8576b"
             ],
             [
              0.6666666666666666,
              "#ed7953"
             ],
             [
              0.7777777777777778,
              "#fb9f3a"
             ],
             [
              0.8888888888888888,
              "#fdca26"
             ],
             [
              1,
              "#f0f921"
             ]
            ],
            "type": "contour"
           }
          ],
          "contourcarpet": [
           {
            "colorbar": {
             "outlinewidth": 0,
             "ticks": ""
            },
            "type": "contourcarpet"
           }
          ],
          "heatmap": [
           {
            "colorbar": {
             "outlinewidth": 0,
             "ticks": ""
            },
            "colorscale": [
             [
              0,
              "#0d0887"
             ],
             [
              0.1111111111111111,
              "#46039f"
             ],
             [
              0.2222222222222222,
              "#7201a8"
             ],
             [
              0.3333333333333333,
              "#9c179e"
             ],
             [
              0.4444444444444444,
              "#bd3786"
             ],
             [
              0.5555555555555556,
              "#d8576b"
             ],
             [
              0.6666666666666666,
              "#ed7953"
             ],
             [
              0.7777777777777778,
              "#fb9f3a"
             ],
             [
              0.8888888888888888,
              "#fdca26"
             ],
             [
              1,
              "#f0f921"
             ]
            ],
            "type": "heatmap"
           }
          ],
          "heatmapgl": [
           {
            "colorbar": {
             "outlinewidth": 0,
             "ticks": ""
            },
            "colorscale": [
             [
              0,
              "#0d0887"
             ],
             [
              0.1111111111111111,
              "#46039f"
             ],
             [
              0.2222222222222222,
              "#7201a8"
             ],
             [
              0.3333333333333333,
              "#9c179e"
             ],
             [
              0.4444444444444444,
              "#bd3786"
             ],
             [
              0.5555555555555556,
              "#d8576b"
             ],
             [
              0.6666666666666666,
              "#ed7953"
             ],
             [
              0.7777777777777778,
              "#fb9f3a"
             ],
             [
              0.8888888888888888,
              "#fdca26"
             ],
             [
              1,
              "#f0f921"
             ]
            ],
            "type": "heatmapgl"
           }
          ],
          "histogram": [
           {
            "marker": {
             "pattern": {
              "fillmode": "overlay",
              "size": 10,
              "solidity": 0.2
             }
            },
            "type": "histogram"
           }
          ],
          "histogram2d": [
           {
            "colorbar": {
             "outlinewidth": 0,
             "ticks": ""
            },
            "colorscale": [
             [
              0,
              "#0d0887"
             ],
             [
              0.1111111111111111,
              "#46039f"
             ],
             [
              0.2222222222222222,
              "#7201a8"
             ],
             [
              0.3333333333333333,
              "#9c179e"
             ],
             [
              0.4444444444444444,
              "#bd3786"
             ],
             [
              0.5555555555555556,
              "#d8576b"
             ],
             [
              0.6666666666666666,
              "#ed7953"
             ],
             [
              0.7777777777777778,
              "#fb9f3a"
             ],
             [
              0.8888888888888888,
              "#fdca26"
             ],
             [
              1,
              "#f0f921"
             ]
            ],
            "type": "histogram2d"
           }
          ],
          "histogram2dcontour": [
           {
            "colorbar": {
             "outlinewidth": 0,
             "ticks": ""
            },
            "colorscale": [
             [
              0,
              "#0d0887"
             ],
             [
              0.1111111111111111,
              "#46039f"
             ],
             [
              0.2222222222222222,
              "#7201a8"
             ],
             [
              0.3333333333333333,
              "#9c179e"
             ],
             [
              0.4444444444444444,
              "#bd3786"
             ],
             [
              0.5555555555555556,
              "#d8576b"
             ],
             [
              0.6666666666666666,
              "#ed7953"
             ],
             [
              0.7777777777777778,
              "#fb9f3a"
             ],
             [
              0.8888888888888888,
              "#fdca26"
             ],
             [
              1,
              "#f0f921"
             ]
            ],
            "type": "histogram2dcontour"
           }
          ],
          "mesh3d": [
           {
            "colorbar": {
             "outlinewidth": 0,
             "ticks": ""
            },
            "type": "mesh3d"
           }
          ],
          "parcoords": [
           {
            "line": {
             "colorbar": {
              "outlinewidth": 0,
              "ticks": ""
             }
            },
            "type": "parcoords"
           }
          ],
          "pie": [
           {
            "automargin": true,
            "type": "pie"
           }
          ],
          "scatter": [
           {
            "fillpattern": {
             "fillmode": "overlay",
             "size": 10,
             "solidity": 0.2
            },
            "type": "scatter"
           }
          ],
          "scatter3d": [
           {
            "line": {
             "colorbar": {
              "outlinewidth": 0,
              "ticks": ""
             }
            },
            "marker": {
             "colorbar": {
              "outlinewidth": 0,
              "ticks": ""
             }
            },
            "type": "scatter3d"
           }
          ],
          "scattercarpet": [
           {
            "marker": {
             "colorbar": {
              "outlinewidth": 0,
              "ticks": ""
             }
            },
            "type": "scattercarpet"
           }
          ],
          "scattergeo": [
           {
            "marker": {
             "colorbar": {
              "outlinewidth": 0,
              "ticks": ""
             }
            },
            "type": "scattergeo"
           }
          ],
          "scattergl": [
           {
            "marker": {
             "colorbar": {
              "outlinewidth": 0,
              "ticks": ""
             }
            },
            "type": "scattergl"
           }
          ],
          "scattermapbox": [
           {
            "marker": {
             "colorbar": {
              "outlinewidth": 0,
              "ticks": ""
             }
            },
            "type": "scattermapbox"
           }
          ],
          "scatterpolar": [
           {
            "marker": {
             "colorbar": {
              "outlinewidth": 0,
              "ticks": ""
             }
            },
            "type": "scatterpolar"
           }
          ],
          "scatterpolargl": [
           {
            "marker": {
             "colorbar": {
              "outlinewidth": 0,
              "ticks": ""
             }
            },
            "type": "scatterpolargl"
           }
          ],
          "scatterternary": [
           {
            "marker": {
             "colorbar": {
              "outlinewidth": 0,
              "ticks": ""
             }
            },
            "type": "scatterternary"
           }
          ],
          "surface": [
           {
            "colorbar": {
             "outlinewidth": 0,
             "ticks": ""
            },
            "colorscale": [
             [
              0,
              "#0d0887"
             ],
             [
              0.1111111111111111,
              "#46039f"
             ],
             [
              0.2222222222222222,
              "#7201a8"
             ],
             [
              0.3333333333333333,
              "#9c179e"
             ],
             [
              0.4444444444444444,
              "#bd3786"
             ],
             [
              0.5555555555555556,
              "#d8576b"
             ],
             [
              0.6666666666666666,
              "#ed7953"
             ],
             [
              0.7777777777777778,
              "#fb9f3a"
             ],
             [
              0.8888888888888888,
              "#fdca26"
             ],
             [
              1,
              "#f0f921"
             ]
            ],
            "type": "surface"
           }
          ],
          "table": [
           {
            "cells": {
             "fill": {
              "color": "#EBF0F8"
             },
             "line": {
              "color": "white"
             }
            },
            "header": {
             "fill": {
              "color": "#C8D4E3"
             },
             "line": {
              "color": "white"
             }
            },
            "type": "table"
           }
          ]
         },
         "layout": {
          "annotationdefaults": {
           "arrowcolor": "#2a3f5f",
           "arrowhead": 0,
           "arrowwidth": 1
          },
          "autotypenumbers": "strict",
          "coloraxis": {
           "colorbar": {
            "outlinewidth": 0,
            "ticks": ""
           }
          },
          "colorscale": {
           "diverging": [
            [
             0,
             "#8e0152"
            ],
            [
             0.1,
             "#c51b7d"
            ],
            [
             0.2,
             "#de77ae"
            ],
            [
             0.3,
             "#f1b6da"
            ],
            [
             0.4,
             "#fde0ef"
            ],
            [
             0.5,
             "#f7f7f7"
            ],
            [
             0.6,
             "#e6f5d0"
            ],
            [
             0.7,
             "#b8e186"
            ],
            [
             0.8,
             "#7fbc41"
            ],
            [
             0.9,
             "#4d9221"
            ],
            [
             1,
             "#276419"
            ]
           ],
           "sequential": [
            [
             0,
             "#0d0887"
            ],
            [
             0.1111111111111111,
             "#46039f"
            ],
            [
             0.2222222222222222,
             "#7201a8"
            ],
            [
             0.3333333333333333,
             "#9c179e"
            ],
            [
             0.4444444444444444,
             "#bd3786"
            ],
            [
             0.5555555555555556,
             "#d8576b"
            ],
            [
             0.6666666666666666,
             "#ed7953"
            ],
            [
             0.7777777777777778,
             "#fb9f3a"
            ],
            [
             0.8888888888888888,
             "#fdca26"
            ],
            [
             1,
             "#f0f921"
            ]
           ],
           "sequentialminus": [
            [
             0,
             "#0d0887"
            ],
            [
             0.1111111111111111,
             "#46039f"
            ],
            [
             0.2222222222222222,
             "#7201a8"
            ],
            [
             0.3333333333333333,
             "#9c179e"
            ],
            [
             0.4444444444444444,
             "#bd3786"
            ],
            [
             0.5555555555555556,
             "#d8576b"
            ],
            [
             0.6666666666666666,
             "#ed7953"
            ],
            [
             0.7777777777777778,
             "#fb9f3a"
            ],
            [
             0.8888888888888888,
             "#fdca26"
            ],
            [
             1,
             "#f0f921"
            ]
           ]
          },
          "colorway": [
           "#636efa",
           "#EF553B",
           "#00cc96",
           "#ab63fa",
           "#FFA15A",
           "#19d3f3",
           "#FF6692",
           "#B6E880",
           "#FF97FF",
           "#FECB52"
          ],
          "font": {
           "color": "#2a3f5f"
          },
          "geo": {
           "bgcolor": "white",
           "lakecolor": "white",
           "landcolor": "#E5ECF6",
           "showlakes": true,
           "showland": true,
           "subunitcolor": "white"
          },
          "hoverlabel": {
           "align": "left"
          },
          "hovermode": "closest",
          "mapbox": {
           "style": "light"
          },
          "paper_bgcolor": "white",
          "plot_bgcolor": "#E5ECF6",
          "polar": {
           "angularaxis": {
            "gridcolor": "white",
            "linecolor": "white",
            "ticks": ""
           },
           "bgcolor": "#E5ECF6",
           "radialaxis": {
            "gridcolor": "white",
            "linecolor": "white",
            "ticks": ""
           }
          },
          "scene": {
           "xaxis": {
            "backgroundcolor": "#E5ECF6",
            "gridcolor": "white",
            "gridwidth": 2,
            "linecolor": "white",
            "showbackground": true,
            "ticks": "",
            "zerolinecolor": "white"
           },
           "yaxis": {
            "backgroundcolor": "#E5ECF6",
            "gridcolor": "white",
            "gridwidth": 2,
            "linecolor": "white",
            "showbackground": true,
            "ticks": "",
            "zerolinecolor": "white"
           },
           "zaxis": {
            "backgroundcolor": "#E5ECF6",
            "gridcolor": "white",
            "gridwidth": 2,
            "linecolor": "white",
            "showbackground": true,
            "ticks": "",
            "zerolinecolor": "white"
           }
          },
          "shapedefaults": {
           "line": {
            "color": "#2a3f5f"
           }
          },
          "ternary": {
           "aaxis": {
            "gridcolor": "white",
            "linecolor": "white",
            "ticks": ""
           },
           "baxis": {
            "gridcolor": "white",
            "linecolor": "white",
            "ticks": ""
           },
           "bgcolor": "#E5ECF6",
           "caxis": {
            "gridcolor": "white",
            "linecolor": "white",
            "ticks": ""
           }
          },
          "title": {
           "x": 0.05
          },
          "xaxis": {
           "automargin": true,
           "gridcolor": "white",
           "linecolor": "white",
           "ticks": "",
           "title": {
            "standoff": 15
           },
           "zerolinecolor": "white",
           "zerolinewidth": 2
          },
          "yaxis": {
           "automargin": true,
           "gridcolor": "white",
           "linecolor": "white",
           "ticks": "",
           "title": {
            "standoff": 15
           },
           "zerolinecolor": "white",
           "zerolinewidth": 2
          }
         }
        },
        "xaxis": {
         "anchor": "y",
         "domain": [
          0,
          1
         ],
         "title": {
          "text": "DATE"
         }
        },
        "yaxis": {
         "anchor": "x",
         "domain": [
          0,
          1
         ],
         "title": {
          "text": "CYCLE_COUNT"
         }
        }
       }
      },
      "text/html": [
       "<div>                        <script type=\"text/javascript\">window.PlotlyConfig = {MathJaxConfig: 'local'};</script>\n",
       "        <script charset=\"utf-8\" src=\"https://cdn.plot.ly/plotly-2.34.0.min.js\"></script>                <div id=\"301f1927-9dff-4073-98a7-b1229e41b828\" class=\"plotly-graph-div\" style=\"height:100%; width:100%;\"></div>            <script type=\"text/javascript\">                                    window.PLOTLYENV=window.PLOTLYENV || {};                                    if (document.getElementById(\"301f1927-9dff-4073-98a7-b1229e41b828\")) {                    Plotly.newPlot(                        \"301f1927-9dff-4073-98a7-b1229e41b828\",                        [{\"hovertemplate\":\"DATE=%{x}\\u003cbr\\u003eCYCLE_COUNT=%{y}\\u003cextra\\u003e\\u003c\\u002fextra\\u003e\",\"legendgroup\":\"\",\"line\":{\"color\":\"#636efa\",\"dash\":\"solid\"},\"marker\":{\"symbol\":\"circle\"},\"mode\":\"lines\",\"name\":\"\",\"orientation\":\"v\",\"showlegend\":false,\"x\":[\"2025-01-24T00:00:00\",\"2025-01-25T00:00:00\",\"2025-01-26T00:00:00\",\"2025-01-27T00:00:00\",\"2025-01-28T00:00:00\",\"2025-01-29T00:00:00\",\"2025-01-30T00:00:00\",\"2025-02-01T00:00:00\",\"2025-02-02T00:00:00\",\"2025-02-03T00:00:00\",\"2025-02-04T00:00:00\",\"2025-02-05T00:00:00\",\"2025-02-06T00:00:00\",\"2025-02-07T00:00:00\"],\"xaxis\":\"x\",\"y\":[978.3333333333334,923.9285714285714,795.0,623.258064516129,532.0,467.4736842105263,356.53846153846155,289.0,251.7,175.95,100.83333333333333,63.25,34.2,11.0],\"yaxis\":\"y\",\"type\":\"scatter\"}],                        {\"template\":{\"data\":{\"histogram2dcontour\":[{\"type\":\"histogram2dcontour\",\"colorbar\":{\"outlinewidth\":0,\"ticks\":\"\"},\"colorscale\":[[0.0,\"#0d0887\"],[0.1111111111111111,\"#46039f\"],[0.2222222222222222,\"#7201a8\"],[0.3333333333333333,\"#9c179e\"],[0.4444444444444444,\"#bd3786\"],[0.5555555555555556,\"#d8576b\"],[0.6666666666666666,\"#ed7953\"],[0.7777777777777778,\"#fb9f3a\"],[0.8888888888888888,\"#fdca26\"],[1.0,\"#f0f921\"]]}],\"choropleth\":[{\"type\":\"choropleth\",\"colorbar\":{\"outlinewidth\":0,\"ticks\":\"\"}}],\"histogram2d\":[{\"type\":\"histogram2d\",\"colorbar\":{\"outlinewidth\":0,\"ticks\":\"\"},\"colorscale\":[[0.0,\"#0d0887\"],[0.1111111111111111,\"#46039f\"],[0.2222222222222222,\"#7201a8\"],[0.3333333333333333,\"#9c179e\"],[0.4444444444444444,\"#bd3786\"],[0.5555555555555556,\"#d8576b\"],[0.6666666666666666,\"#ed7953\"],[0.7777777777777778,\"#fb9f3a\"],[0.8888888888888888,\"#fdca26\"],[1.0,\"#f0f921\"]]}],\"heatmap\":[{\"type\":\"heatmap\",\"colorbar\":{\"outlinewidth\":0,\"ticks\":\"\"},\"colorscale\":[[0.0,\"#0d0887\"],[0.1111111111111111,\"#46039f\"],[0.2222222222222222,\"#7201a8\"],[0.3333333333333333,\"#9c179e\"],[0.4444444444444444,\"#bd3786\"],[0.5555555555555556,\"#d8576b\"],[0.6666666666666666,\"#ed7953\"],[0.7777777777777778,\"#fb9f3a\"],[0.8888888888888888,\"#fdca26\"],[1.0,\"#f0f921\"]]}],\"heatmapgl\":[{\"type\":\"heatmapgl\",\"colorbar\":{\"outlinewidth\":0,\"ticks\":\"\"},\"colorscale\":[[0.0,\"#0d0887\"],[0.1111111111111111,\"#46039f\"],[0.2222222222222222,\"#7201a8\"],[0.3333333333333333,\"#9c179e\"],[0.4444444444444444,\"#bd3786\"],[0.5555555555555556,\"#d8576b\"],[0.6666666666666666,\"#ed7953\"],[0.7777777777777778,\"#fb9f3a\"],[0.8888888888888888,\"#fdca26\"],[1.0,\"#f0f921\"]]}],\"contourcarpet\":[{\"type\":\"contourcarpet\",\"colorbar\":{\"outlinewidth\":0,\"ticks\":\"\"}}],\"contour\":[{\"type\":\"contour\",\"colorbar\":{\"outlinewidth\":0,\"ticks\":\"\"},\"colorscale\":[[0.0,\"#0d0887\"],[0.1111111111111111,\"#46039f\"],[0.2222222222222222,\"#7201a8\"],[0.3333333333333333,\"#9c179e\"],[0.4444444444444444,\"#bd3786\"],[0.5555555555555556,\"#d8576b\"],[0.6666666666666666,\"#ed7953\"],[0.7777777777777778,\"#fb9f3a\"],[0.8888888888888888,\"#fdca26\"],[1.0,\"#f0f921\"]]}],\"surface\":[{\"type\":\"surface\",\"colorbar\":{\"outlinewidth\":0,\"ticks\":\"\"},\"colorscale\":[[0.0,\"#0d0887\"],[0.1111111111111111,\"#46039f\"],[0.2222222222222222,\"#7201a8\"],[0.3333333333333333,\"#9c179e\"],[0.4444444444444444,\"#bd3786\"],[0.5555555555555556,\"#d8576b\"],[0.6666666666666666,\"#ed7953\"],[0.7777777777777778,\"#fb9f3a\"],[0.8888888888888888,\"#fdca26\"],[1.0,\"#f0f921\"]]}],\"mesh3d\":[{\"type\":\"mesh3d\",\"colorbar\":{\"outlinewidth\":0,\"ticks\":\"\"}}],\"scatter\":[{\"fillpattern\":{\"fillmode\":\"overlay\",\"size\":10,\"solidity\":0.2},\"type\":\"scatter\"}],\"parcoords\":[{\"type\":\"parcoords\",\"line\":{\"colorbar\":{\"outlinewidth\":0,\"ticks\":\"\"}}}],\"scatterpolargl\":[{\"type\":\"scatterpolargl\",\"marker\":{\"colorbar\":{\"outlinewidth\":0,\"ticks\":\"\"}}}],\"bar\":[{\"error_x\":{\"color\":\"#2a3f5f\"},\"error_y\":{\"color\":\"#2a3f5f\"},\"marker\":{\"line\":{\"color\":\"#E5ECF6\",\"width\":0.5},\"pattern\":{\"fillmode\":\"overlay\",\"size\":10,\"solidity\":0.2}},\"type\":\"bar\"}],\"scattergeo\":[{\"type\":\"scattergeo\",\"marker\":{\"colorbar\":{\"outlinewidth\":0,\"ticks\":\"\"}}}],\"scatterpolar\":[{\"type\":\"scatterpolar\",\"marker\":{\"colorbar\":{\"outlinewidth\":0,\"ticks\":\"\"}}}],\"histogram\":[{\"marker\":{\"pattern\":{\"fillmode\":\"overlay\",\"size\":10,\"solidity\":0.2}},\"type\":\"histogram\"}],\"scattergl\":[{\"type\":\"scattergl\",\"marker\":{\"colorbar\":{\"outlinewidth\":0,\"ticks\":\"\"}}}],\"scatter3d\":[{\"type\":\"scatter3d\",\"line\":{\"colorbar\":{\"outlinewidth\":0,\"ticks\":\"\"}},\"marker\":{\"colorbar\":{\"outlinewidth\":0,\"ticks\":\"\"}}}],\"scattermapbox\":[{\"type\":\"scattermapbox\",\"marker\":{\"colorbar\":{\"outlinewidth\":0,\"ticks\":\"\"}}}],\"scatterternary\":[{\"type\":\"scatterternary\",\"marker\":{\"colorbar\":{\"outlinewidth\":0,\"ticks\":\"\"}}}],\"scattercarpet\":[{\"type\":\"scattercarpet\",\"marker\":{\"colorbar\":{\"outlinewidth\":0,\"ticks\":\"\"}}}],\"carpet\":[{\"aaxis\":{\"endlinecolor\":\"#2a3f5f\",\"gridcolor\":\"white\",\"linecolor\":\"white\",\"minorgridcolor\":\"white\",\"startlinecolor\":\"#2a3f5f\"},\"baxis\":{\"endlinecolor\":\"#2a3f5f\",\"gridcolor\":\"white\",\"linecolor\":\"white\",\"minorgridcolor\":\"white\",\"startlinecolor\":\"#2a3f5f\"},\"type\":\"carpet\"}],\"table\":[{\"cells\":{\"fill\":{\"color\":\"#EBF0F8\"},\"line\":{\"color\":\"white\"}},\"header\":{\"fill\":{\"color\":\"#C8D4E3\"},\"line\":{\"color\":\"white\"}},\"type\":\"table\"}],\"barpolar\":[{\"marker\":{\"line\":{\"color\":\"#E5ECF6\",\"width\":0.5},\"pattern\":{\"fillmode\":\"overlay\",\"size\":10,\"solidity\":0.2}},\"type\":\"barpolar\"}],\"pie\":[{\"automargin\":true,\"type\":\"pie\"}]},\"layout\":{\"autotypenumbers\":\"strict\",\"colorway\":[\"#636efa\",\"#EF553B\",\"#00cc96\",\"#ab63fa\",\"#FFA15A\",\"#19d3f3\",\"#FF6692\",\"#B6E880\",\"#FF97FF\",\"#FECB52\"],\"font\":{\"color\":\"#2a3f5f\"},\"hovermode\":\"closest\",\"hoverlabel\":{\"align\":\"left\"},\"paper_bgcolor\":\"white\",\"plot_bgcolor\":\"#E5ECF6\",\"polar\":{\"bgcolor\":\"#E5ECF6\",\"angularaxis\":{\"gridcolor\":\"white\",\"linecolor\":\"white\",\"ticks\":\"\"},\"radialaxis\":{\"gridcolor\":\"white\",\"linecolor\":\"white\",\"ticks\":\"\"}},\"ternary\":{\"bgcolor\":\"#E5ECF6\",\"aaxis\":{\"gridcolor\":\"white\",\"linecolor\":\"white\",\"ticks\":\"\"},\"baxis\":{\"gridcolor\":\"white\",\"linecolor\":\"white\",\"ticks\":\"\"},\"caxis\":{\"gridcolor\":\"white\",\"linecolor\":\"white\",\"ticks\":\"\"}},\"coloraxis\":{\"colorbar\":{\"outlinewidth\":0,\"ticks\":\"\"}},\"colorscale\":{\"sequential\":[[0.0,\"#0d0887\"],[0.1111111111111111,\"#46039f\"],[0.2222222222222222,\"#7201a8\"],[0.3333333333333333,\"#9c179e\"],[0.4444444444444444,\"#bd3786\"],[0.5555555555555556,\"#d8576b\"],[0.6666666666666666,\"#ed7953\"],[0.7777777777777778,\"#fb9f3a\"],[0.8888888888888888,\"#fdca26\"],[1.0,\"#f0f921\"]],\"sequentialminus\":[[0.0,\"#0d0887\"],[0.1111111111111111,\"#46039f\"],[0.2222222222222222,\"#7201a8\"],[0.3333333333333333,\"#9c179e\"],[0.4444444444444444,\"#bd3786\"],[0.5555555555555556,\"#d8576b\"],[0.6666666666666666,\"#ed7953\"],[0.7777777777777778,\"#fb9f3a\"],[0.8888888888888888,\"#fdca26\"],[1.0,\"#f0f921\"]],\"diverging\":[[0,\"#8e0152\"],[0.1,\"#c51b7d\"],[0.2,\"#de77ae\"],[0.3,\"#f1b6da\"],[0.4,\"#fde0ef\"],[0.5,\"#f7f7f7\"],[0.6,\"#e6f5d0\"],[0.7,\"#b8e186\"],[0.8,\"#7fbc41\"],[0.9,\"#4d9221\"],[1,\"#276419\"]]},\"xaxis\":{\"gridcolor\":\"white\",\"linecolor\":\"white\",\"ticks\":\"\",\"title\":{\"standoff\":15},\"zerolinecolor\":\"white\",\"automargin\":true,\"zerolinewidth\":2},\"yaxis\":{\"gridcolor\":\"white\",\"linecolor\":\"white\",\"ticks\":\"\",\"title\":{\"standoff\":15},\"zerolinecolor\":\"white\",\"automargin\":true,\"zerolinewidth\":2},\"scene\":{\"xaxis\":{\"backgroundcolor\":\"#E5ECF6\",\"gridcolor\":\"white\",\"linecolor\":\"white\",\"showbackground\":true,\"ticks\":\"\",\"zerolinecolor\":\"white\",\"gridwidth\":2},\"yaxis\":{\"backgroundcolor\":\"#E5ECF6\",\"gridcolor\":\"white\",\"linecolor\":\"white\",\"showbackground\":true,\"ticks\":\"\",\"zerolinecolor\":\"white\",\"gridwidth\":2},\"zaxis\":{\"backgroundcolor\":\"#E5ECF6\",\"gridcolor\":\"white\",\"linecolor\":\"white\",\"showbackground\":true,\"ticks\":\"\",\"zerolinecolor\":\"white\",\"gridwidth\":2}},\"shapedefaults\":{\"line\":{\"color\":\"#2a3f5f\"}},\"annotationdefaults\":{\"arrowcolor\":\"#2a3f5f\",\"arrowhead\":0,\"arrowwidth\":1},\"geo\":{\"bgcolor\":\"white\",\"landcolor\":\"#E5ECF6\",\"subunitcolor\":\"white\",\"showland\":true,\"showlakes\":true,\"lakecolor\":\"white\"},\"title\":{\"x\":0.05},\"mapbox\":{\"style\":\"light\"}}},\"xaxis\":{\"anchor\":\"y\",\"domain\":[0.0,1.0],\"title\":{\"text\":\"DATE\"}},\"yaxis\":{\"anchor\":\"x\",\"domain\":[0.0,1.0],\"title\":{\"text\":\"CYCLE_COUNT\"}},\"legend\":{\"tracegroupgap\":0},\"margin\":{\"t\":60}},                        {\"responsive\": true}                    )                };                            </script>        </div>"
      ],
      "text/plain": [
       "Figure({\n",
       "    'data': [{'hovertemplate': 'DATE=%{x}<br>CYCLE_COUNT=%{y}<extra></extra>',\n",
       "              'legendgroup': '',\n",
       "              'line': {'color': '#636efa', 'dash': 'solid'},\n",
       "              'marker': {'symbol': 'circle'},\n",
       "              'mode': 'lines',\n",
       "              'name': '',\n",
       "              'orientation': 'v',\n",
       "              'showlegend': False,\n",
       "              'type': 'scatter',\n",
       "              'x': array([datetime.datetime(2025, 1, 24, 0, 0),\n",
       "                          datetime.datetime(2025, 1, 25, 0, 0),\n",
       "                          datetime.datetime(2025, 1, 26, 0, 0),\n",
       "                          datetime.datetime(2025, 1, 27, 0, 0),\n",
       "                          datetime.datetime(2025, 1, 28, 0, 0),\n",
       "                          datetime.datetime(2025, 1, 29, 0, 0),\n",
       "                          datetime.datetime(2025, 1, 30, 0, 0),\n",
       "                          datetime.datetime(2025, 2, 1, 0, 0),\n",
       "                          datetime.datetime(2025, 2, 2, 0, 0),\n",
       "                          datetime.datetime(2025, 2, 3, 0, 0),\n",
       "                          datetime.datetime(2025, 2, 4, 0, 0),\n",
       "                          datetime.datetime(2025, 2, 5, 0, 0),\n",
       "                          datetime.datetime(2025, 2, 6, 0, 0),\n",
       "                          datetime.datetime(2025, 2, 7, 0, 0)], dtype=object),\n",
       "              'xaxis': 'x',\n",
       "              'y': array([978.33333333, 923.92857143, 795.        , 623.25806452, 532.        ,\n",
       "                          467.47368421, 356.53846154, 289.        , 251.7       , 175.95      ,\n",
       "                          100.83333333,  63.25      ,  34.2       ,  11.        ]),\n",
       "              'yaxis': 'y'}],\n",
       "    'layout': {'legend': {'tracegroupgap': 0},\n",
       "               'margin': {'t': 60},\n",
       "               'template': '...',\n",
       "               'xaxis': {'anchor': 'y', 'domain': [0.0, 1.0], 'title': {'text': 'DATE'}},\n",
       "               'yaxis': {'anchor': 'x', 'domain': [0.0, 1.0], 'title': {'text': 'CYCLE_COUNT'}}}\n",
       "})"
      ]
     },
     "execution_count": 18,
     "metadata": {},
     "output_type": "execute_result"
    }
   ],
   "source": [
    "px.line(df1,x=\"DATE\",y=\"CYCLE_COUNT\")"
   ]
  },
  {
   "cell_type": "code",
   "execution_count": 19,
   "metadata": {},
   "outputs": [],
   "source": [
    "df.to_csv(\"data.csv\", index=False)"
   ]
  },
  {
   "cell_type": "code",
   "execution_count": 20,
   "metadata": {},
   "outputs": [],
   "source": [
    "import pandas as pd\n",
    "df = pd.read_csv(\"data.csv\")"
   ]
  },
  {
   "cell_type": "code",
   "execution_count": 21,
   "metadata": {},
   "outputs": [
    {
     "data": {
      "text/plain": [
       "0        2\n",
       "1        0\n",
       "2       18\n",
       "3       12\n",
       "4       23\n",
       "      ... \n",
       "195    986\n",
       "196    997\n",
       "197    975\n",
       "198    989\n",
       "199    993\n",
       "Name: CYCLE_COUNT, Length: 200, dtype: int64"
      ]
     },
     "execution_count": 21,
     "metadata": {},
     "output_type": "execute_result"
    }
   ],
   "source": [
    "df[\"CYCLE_COUNT\"]"
   ]
  },
  {
   "cell_type": "code",
   "execution_count": null,
   "metadata": {},
   "outputs": [],
   "source": []
  }
 ],
 "metadata": {
  "kernelspec": {
   "display_name": "Python 3",
   "language": "python",
   "name": "python3"
  },
  "language_info": {
   "codemirror_mode": {
    "name": "ipython",
    "version": 3
   },
   "file_extension": ".py",
   "mimetype": "text/x-python",
   "name": "python",
   "nbconvert_exporter": "python",
   "pygments_lexer": "ipython3",
   "version": "3.12.9"
  }
 },
 "nbformat": 4,
 "nbformat_minor": 2
}
