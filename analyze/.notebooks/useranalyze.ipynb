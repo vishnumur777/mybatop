{
 "cells": [
  {
   "cell_type": "code",
   "execution_count": 21,
   "metadata": {},
   "outputs": [],
   "source": [
    "import pandas as pd"
   ]
  },
  {
   "cell_type": "code",
   "execution_count": 22,
   "metadata": {},
   "outputs": [],
   "source": [
    "df = pd.read_csv(\"details.csv\")"
   ]
  },
  {
   "cell_type": "code",
   "execution_count": 23,
   "metadata": {},
   "outputs": [
    {
     "data": {
      "text/html": [
       "<div>\n",
       "<style scoped>\n",
       "    .dataframe tbody tr th:only-of-type {\n",
       "        vertical-align: middle;\n",
       "    }\n",
       "\n",
       "    .dataframe tbody tr th {\n",
       "        vertical-align: top;\n",
       "    }\n",
       "\n",
       "    .dataframe thead th {\n",
       "        text-align: right;\n",
       "    }\n",
       "</style>\n",
       "<table border=\"1\" class=\"dataframe\">\n",
       "  <thead>\n",
       "    <tr style=\"text-align: right;\">\n",
       "      <th></th>\n",
       "      <th>HOSTNAME</th>\n",
       "      <th>SYSTEM_NAME</th>\n",
       "      <th>BIOS_DETAILS</th>\n",
       "      <th>OS_NAME</th>\n",
       "      <th>REPORT_TIME</th>\n",
       "      <th>MODEL_NAME</th>\n",
       "      <th>BATTERY_SERIAL_NO</th>\n",
       "      <th>TYPE</th>\n",
       "      <th>TECHNOLOGY</th>\n",
       "      <th>MANUFACTURER</th>\n",
       "      <th>CHARGE_FULL_DESIGN</th>\n",
       "      <th>VOLTAGE_MIN_DESIGN</th>\n",
       "    </tr>\n",
       "  </thead>\n",
       "  <tbody>\n",
       "    <tr>\n",
       "      <th>0</th>\n",
       "      <td>varun-vostro3401</td>\n",
       "      <td>Vostro 3401</td>\n",
       "      <td>Dell Inc. 1.25.0 06/12/2023</td>\n",
       "      <td>EndeavourOS</td>\n",
       "      <td>08/05/23 23:17:03</td>\n",
       "      <td>DELL FDRHM08</td>\n",
       "      <td>34838</td>\n",
       "      <td>Battery</td>\n",
       "      <td>Li-ion</td>\n",
       "      <td>LGC-LGC3.65</td>\n",
       "      <td>3684</td>\n",
       "      <td>11400</td>\n",
       "    </tr>\n",
       "  </tbody>\n",
       "</table>\n",
       "</div>"
      ],
      "text/plain": [
       "           HOSTNAME  SYSTEM_NAME                 BIOS_DETAILS      OS_NAME   \n",
       "0  varun-vostro3401  Vostro 3401  Dell Inc. 1.25.0 06/12/2023  EndeavourOS  \\\n",
       "\n",
       "         REPORT_TIME    MODEL_NAME  BATTERY_SERIAL_NO     TYPE TECHNOLOGY   \n",
       "0  08/05/23 23:17:03  DELL FDRHM08              34838  Battery     Li-ion  \\\n",
       "\n",
       "  MANUFACTURER  CHARGE_FULL_DESIGN  VOLTAGE_MIN_DESIGN  \n",
       "0  LGC-LGC3.65                3684               11400  "
      ]
     },
     "execution_count": 23,
     "metadata": {},
     "output_type": "execute_result"
    }
   ],
   "source": [
    "df"
   ]
  },
  {
   "cell_type": "code",
   "execution_count": 24,
   "metadata": {},
   "outputs": [],
   "source": [
    "length = df.shape[-1]"
   ]
  },
  {
   "cell_type": "code",
   "execution_count": 25,
   "metadata": {},
   "outputs": [
    {
     "data": {
      "text/plain": [
       "'varun-vostro3401'"
      ]
     },
     "execution_count": 25,
     "metadata": {},
     "output_type": "execute_result"
    }
   ],
   "source": [
    "df.values[0][0]"
   ]
  },
  {
   "cell_type": "code",
   "execution_count": 28,
   "metadata": {},
   "outputs": [],
   "source": [
    "user='<div class=\"title\">User & Battery details</div>'\n",
    "user+='<div class=\"battery-details\">'\n",
    "for i in range(length):\n",
    "    user+=f'<div class=\"battery-content\"><h3>{df.columns[i]}</h3><p>{df.values[0][i]}</p></div>'\n",
    "user+='</div>'\n",
    "\n",
    "with open(\"head.txt\",'a') as f:\n",
    "    f.write(user)"
   ]
  },
  {
   "cell_type": "code",
   "execution_count": 27,
   "metadata": {},
   "outputs": [
    {
     "data": {
      "text/plain": [
       "'<div class=\"title\">User & Battery details</div><div class=\"battery-details\"><div class=\"battery-content\"><h3>HOSTNAME</h3><p>varun-vostro3401</p></div><div class=\"battery-content\"><h3>SYSTEM_NAME</h3><p>Vostro 3401</p></div><div class=\"battery-content\"><h3>BIOS_DETAILS</h3><p>Dell Inc. 1.25.0 06/12/2023</p></div><div class=\"battery-content\"><h3>OS_NAME</h3><p>EndeavourOS</p></div><div class=\"battery-content\"><h3>REPORT_TIME</h3><p>08/05/23 23:17:03</p></div><div class=\"battery-content\"><h3>MODEL_NAME</h3><p>DELL FDRHM08</p></div><div class=\"battery-content\"><h3>BATTERY_SERIAL_NO</h3><p>34838</p></div><div class=\"battery-content\"><h3>TYPE</h3><p>Battery</p></div><div class=\"battery-content\"><h3>TECHNOLOGY</h3><p>Li-ion</p></div><div class=\"battery-content\"><h3>MANUFACTURER</h3><p>LGC-LGC3.65</p></div><div class=\"battery-content\"><h3>CHARGE_FULL_DESIGN</h3><p>3684</p></div><div class=\"battery-content\"><h3>VOLTAGE_MIN_DESIGN</h3><p>11400</p></div></div>'"
      ]
     },
     "execution_count": 27,
     "metadata": {},
     "output_type": "execute_result"
    }
   ],
   "source": [
    "user"
   ]
  },
  {
   "cell_type": "code",
   "execution_count": null,
   "metadata": {},
   "outputs": [],
   "source": []
  }
 ],
 "metadata": {
  "kernelspec": {
   "display_name": "base",
   "language": "python",
   "name": "python3"
  },
  "language_info": {
   "codemirror_mode": {
    "name": "ipython",
    "version": 3
   },
   "file_extension": ".py",
   "mimetype": "text/x-python",
   "name": "python",
   "nbconvert_exporter": "python",
   "pygments_lexer": "ipython3",
   "version": "3.11.3"
  },
  "orig_nbformat": 4
 },
 "nbformat": 4,
 "nbformat_minor": 2
}
